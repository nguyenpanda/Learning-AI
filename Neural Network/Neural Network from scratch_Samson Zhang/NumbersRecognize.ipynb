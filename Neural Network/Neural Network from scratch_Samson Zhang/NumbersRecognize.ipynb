{
 "metadata": {
  "kernelspec": {
   "language": "python",
   "display_name": "Python 3",
   "name": "python3"
  },
  "language_info": {
   "pygments_lexer": "ipython3",
   "nbconvert_exporter": "python",
   "version": "3.6.4",
   "file_extension": ".py",
   "codemirror_mode": {
    "name": "ipython",
    "version": 3
   },
   "name": "python",
   "mimetype": "text/x-python"
  }
 },
 "nbformat_minor": 4,
 "nbformat": 4,
 "cells": [
  {
   "cell_type": "code",
   "source": [
    "import numpy as np\n",
    "import pandas as pd\n",
    "from matplotlib import pyplot as plt\n",
    "\n",
    "data = pd.read_csv('train.csv')"
   ],
   "metadata": {
    "_uuid": "8f2839f25d086af736a60e9eeb907d3b93b6e0e5",
    "_cell_guid": "b1076dfc-b9ad-4769-8c92-a6c4dae69d19",
    "trusted": true,
    "ExecuteTime": {
     "end_time": "2023-10-03T15:16:13.312542Z",
     "start_time": "2023-10-03T15:16:08.794126Z"
    }
   },
   "execution_count": 1,
   "outputs": []
  },
  {
   "cell_type": "code",
   "source": [
    "data = np.array(data)\n",
    "m, n = data.shape\n",
    "np.random.shuffle(data) # shuffle before splitting into dev and training sets\n",
    "\n",
    "data_dev = data[0:1000].T\n",
    "Y_dev = data_dev[0]\n",
    "X_dev = data_dev[1:n]\n",
    "X_dev = X_dev / 255.\n",
    "\n",
    "data_train = data[1000:m].T\n",
    "Y_train = data_train[0]\n",
    "X_train = data_train[1:n]\n",
    "X_train = X_train / 255.\n",
    "_,m_train = X_train.shape"
   ],
   "metadata": {
    "trusted": true,
    "ExecuteTime": {
     "end_time": "2023-10-03T15:16:14.705630Z",
     "start_time": "2023-10-03T15:16:13.304142Z"
    }
   },
   "execution_count": 2,
   "outputs": []
  },
  {
   "cell_type": "code",
   "source": [
    "Y_train"
   ],
   "metadata": {
    "trusted": true,
    "ExecuteTime": {
     "end_time": "2023-10-03T15:16:14.786402Z",
     "start_time": "2023-10-03T15:16:14.713695Z"
    }
   },
   "execution_count": 3,
   "outputs": [
    {
     "data": {
      "text/plain": "array([4, 2, 0, ..., 2, 8, 5])"
     },
     "execution_count": 3,
     "metadata": {},
     "output_type": "execute_result"
    }
   ]
  },
  {
   "cell_type": "code",
   "source": [
    "def init_params():\n",
    "    W1 = np.random.rand(10, 784) - 0.5\n",
    "    b1 = np.random.rand(10, 1) - 0.5\n",
    "    W2 = np.random.rand(10, 10) - 0.5\n",
    "    b2 = np.random.rand(10, 1) - 0.5\n",
    "    return W1, b1, W2, b2\n",
    "\n",
    "def ReLU(Z):\n",
    "    return np.maximum(Z, 0)\n",
    "\n",
    "def softmax(Z):\n",
    "    A = np.exp(Z) / sum(np.exp(Z))\n",
    "    return A\n",
    "    \n",
    "def forward_prop(W1, b1, W2, b2, X):\n",
    "    Z1 = W1.dot(X) + b1\n",
    "    A1 = ReLU(Z1)\n",
    "    Z2 = W2.dot(A1) + b2\n",
    "    A2 = softmax(Z2)\n",
    "    return Z1, A1, Z2, A2\n",
    "\n",
    "def ReLU_deriv(Z):\n",
    "    return Z > 0\n",
    "\n",
    "def one_hot(Y):\n",
    "    one_hot_Y = np.zeros((Y.size, Y.max() + 1))\n",
    "    one_hot_Y[np.arange(Y.size), Y] = 1\n",
    "    one_hot_Y = one_hot_Y.T\n",
    "    return one_hot_Y\n",
    "\n",
    "def backward_prop(Z1, A1, Z2, A2, W1, W2, X, Y):\n",
    "    one_hot_Y = one_hot(Y)\n",
    "    dZ2 = A2 - one_hot_Y\n",
    "    dW2 = 1 / m * dZ2.dot(A1.T)\n",
    "    db2 = 1 / m * np.sum(dZ2)\n",
    "    dZ1 = W2.T.dot(dZ2) * ReLU_deriv(Z1)\n",
    "    dW1 = 1 / m * dZ1.dot(X.T)\n",
    "    db1 = 1 / m * np.sum(dZ1)\n",
    "    return dW1, db1, dW2, db2\n",
    "\n",
    "def update_params(W1, b1, W2, b2, dW1, db1, dW2, db2, alpha):\n",
    "    W1 = W1 - alpha * dW1\n",
    "    b1 = b1 - alpha * db1    \n",
    "    W2 = W2 - alpha * dW2  \n",
    "    b2 = b2 - alpha * db2    \n",
    "    return W1, b1, W2, b2"
   ],
   "metadata": {
    "trusted": true,
    "ExecuteTime": {
     "end_time": "2023-10-03T15:16:14.814994Z",
     "start_time": "2023-10-03T15:16:14.736470Z"
    }
   },
   "execution_count": 4,
   "outputs": []
  },
  {
   "cell_type": "code",
   "source": [
    "def get_predictions(A2):\n",
    "    return np.argmax(A2, 0)\n",
    "\n",
    "def get_accuracy(predictions, Y):\n",
    "    print(predictions, Y)\n",
    "    return np.sum(predictions == Y) / Y.size\n",
    "\n",
    "def gradient_descent(X, Y, alpha, iterations):\n",
    "    W1, b1, W2, b2 = init_params()\n",
    "    for i in range(iterations):\n",
    "        Z1, A1, Z2, A2 = forward_prop(W1, b1, W2, b2, X)\n",
    "        dW1, db1, dW2, db2 = backward_prop(Z1, A1, Z2, A2, W1, W2, X, Y)\n",
    "        W1, b1, W2, b2 = update_params(W1, b1, W2, b2, dW1, db1, dW2, db2, alpha)\n",
    "        if i % 10 == 0:\n",
    "            print(\"Iteration: \", i)\n",
    "            predictions = get_predictions(A2)\n",
    "            print(get_accuracy(predictions, Y))\n",
    "    return W1, b1, W2, b2"
   ],
   "metadata": {
    "trusted": true,
    "ExecuteTime": {
     "end_time": "2023-10-03T15:16:14.815895Z",
     "start_time": "2023-10-03T15:16:14.752352Z"
    }
   },
   "execution_count": 5,
   "outputs": []
  },
  {
   "cell_type": "code",
   "source": [
    "W1, b1, W2, b2 = gradient_descent(X_train, Y_train, 0.10, 500)"
   ],
   "metadata": {
    "trusted": true,
    "ExecuteTime": {
     "end_time": "2023-10-03T15:16:55.451055Z",
     "start_time": "2023-10-03T15:16:14.767222Z"
    }
   },
   "execution_count": 6,
   "outputs": [
    {
     "name": "stdout",
     "output_type": "stream",
     "text": [
      "Iteration:  0\n",
      "[2 2 8 ... 2 2 2] [4 2 0 ... 2 8 5]\n",
      "0.10370731707317073\n",
      "Iteration:  10\n",
      "[2 2 8 ... 8 2 2] [4 2 0 ... 2 8 5]\n",
      "0.19319512195121952\n",
      "Iteration:  20\n",
      "[9 2 0 ... 2 2 2] [4 2 0 ... 2 8 5]\n",
      "0.25370731707317074\n",
      "Iteration:  30\n",
      "[9 2 0 ... 2 2 2] [4 2 0 ... 2 8 5]\n",
      "0.288390243902439\n",
      "Iteration:  40\n",
      "[9 2 0 ... 2 2 2] [4 2 0 ... 2 8 5]\n",
      "0.3178780487804878\n",
      "Iteration:  50\n",
      "[9 4 0 ... 2 9 9] [4 2 0 ... 2 8 5]\n",
      "0.3548292682926829\n",
      "Iteration:  60\n",
      "[9 4 0 ... 2 9 9] [4 2 0 ... 2 8 5]\n",
      "0.3915365853658537\n",
      "Iteration:  70\n",
      "[9 4 0 ... 2 3 2] [4 2 0 ... 2 8 5]\n",
      "0.43209756097560975\n",
      "Iteration:  80\n",
      "[9 4 0 ... 2 3 9] [4 2 0 ... 2 8 5]\n",
      "0.47709756097560974\n",
      "Iteration:  90\n",
      "[9 4 0 ... 2 3 6] [4 2 0 ... 2 8 5]\n",
      "0.5167317073170732\n",
      "Iteration:  100\n",
      "[9 4 0 ... 2 3 6] [4 2 0 ... 2 8 5]\n",
      "0.5531219512195122\n",
      "Iteration:  110\n",
      "[4 2 0 ... 2 3 6] [4 2 0 ... 2 8 5]\n",
      "0.5814390243902439\n",
      "Iteration:  120\n",
      "[4 2 0 ... 2 3 6] [4 2 0 ... 2 8 5]\n",
      "0.6050487804878049\n",
      "Iteration:  130\n",
      "[4 2 0 ... 2 3 6] [4 2 0 ... 2 8 5]\n",
      "0.6270487804878049\n",
      "Iteration:  140\n",
      "[4 2 0 ... 2 3 6] [4 2 0 ... 2 8 5]\n",
      "0.645390243902439\n",
      "Iteration:  150\n",
      "[4 2 0 ... 2 3 6] [4 2 0 ... 2 8 5]\n",
      "0.6624634146341464\n",
      "Iteration:  160\n",
      "[4 2 0 ... 2 3 6] [4 2 0 ... 2 8 5]\n",
      "0.6770243902439025\n",
      "Iteration:  170\n",
      "[4 2 0 ... 2 3 6] [4 2 0 ... 2 8 5]\n",
      "0.6904634146341463\n",
      "Iteration:  180\n",
      "[4 2 0 ... 2 3 6] [4 2 0 ... 2 8 5]\n",
      "0.7005365853658536\n",
      "Iteration:  190\n",
      "[4 2 0 ... 2 3 6] [4 2 0 ... 2 8 5]\n",
      "0.7102439024390244\n",
      "Iteration:  200\n",
      "[4 2 0 ... 2 3 6] [4 2 0 ... 2 8 5]\n",
      "0.7201463414634146\n",
      "Iteration:  210\n",
      "[4 2 0 ... 2 3 6] [4 2 0 ... 2 8 5]\n",
      "0.7286341463414634\n",
      "Iteration:  220\n",
      "[4 2 0 ... 2 3 6] [4 2 0 ... 2 8 5]\n",
      "0.736390243902439\n",
      "Iteration:  230\n",
      "[4 2 0 ... 2 3 6] [4 2 0 ... 2 8 5]\n",
      "0.743780487804878\n",
      "Iteration:  240\n",
      "[4 2 0 ... 2 3 6] [4 2 0 ... 2 8 5]\n",
      "0.7498780487804878\n",
      "Iteration:  250\n",
      "[4 2 0 ... 2 3 6] [4 2 0 ... 2 8 5]\n",
      "0.7568536585365854\n",
      "Iteration:  260\n",
      "[4 2 0 ... 2 3 6] [4 2 0 ... 2 8 5]\n",
      "0.7625609756097561\n",
      "Iteration:  270\n",
      "[4 2 0 ... 2 3 5] [4 2 0 ... 2 8 5]\n",
      "0.7676341463414634\n",
      "Iteration:  280\n",
      "[4 2 0 ... 2 3 5] [4 2 0 ... 2 8 5]\n",
      "0.7733170731707317\n",
      "Iteration:  290\n",
      "[4 2 0 ... 2 3 5] [4 2 0 ... 2 8 5]\n",
      "0.7783414634146342\n",
      "Iteration:  300\n",
      "[4 2 0 ... 2 3 5] [4 2 0 ... 2 8 5]\n",
      "0.7830243902439025\n",
      "Iteration:  310\n",
      "[4 2 0 ... 2 3 5] [4 2 0 ... 2 8 5]\n",
      "0.7876341463414634\n",
      "Iteration:  320\n",
      "[4 2 0 ... 2 3 5] [4 2 0 ... 2 8 5]\n",
      "0.7912926829268293\n",
      "Iteration:  330\n",
      "[4 2 0 ... 2 3 5] [4 2 0 ... 2 8 5]\n",
      "0.7952926829268293\n",
      "Iteration:  340\n",
      "[4 2 0 ... 2 3 5] [4 2 0 ... 2 8 5]\n",
      "0.7993414634146342\n",
      "Iteration:  350\n",
      "[4 2 0 ... 2 3 5] [4 2 0 ... 2 8 5]\n",
      "0.8025853658536586\n",
      "Iteration:  360\n",
      "[4 2 0 ... 2 3 5] [4 2 0 ... 2 8 5]\n",
      "0.8060487804878049\n",
      "Iteration:  370\n",
      "[4 2 0 ... 2 3 5] [4 2 0 ... 2 8 5]\n",
      "0.8090975609756098\n",
      "Iteration:  380\n",
      "[4 2 0 ... 2 3 5] [4 2 0 ... 2 8 5]\n",
      "0.8119756097560976\n",
      "Iteration:  390\n",
      "[4 2 0 ... 2 3 5] [4 2 0 ... 2 8 5]\n",
      "0.8148048780487804\n",
      "Iteration:  400\n",
      "[4 2 0 ... 2 3 5] [4 2 0 ... 2 8 5]\n",
      "0.817780487804878\n",
      "Iteration:  410\n",
      "[4 2 0 ... 2 3 5] [4 2 0 ... 2 8 5]\n",
      "0.8199512195121951\n",
      "Iteration:  420\n",
      "[4 2 0 ... 2 3 5] [4 2 0 ... 2 8 5]\n",
      "0.8223658536585365\n",
      "Iteration:  430\n",
      "[4 2 0 ... 2 3 5] [4 2 0 ... 2 8 5]\n",
      "0.8250731707317073\n",
      "Iteration:  440\n",
      "[4 2 0 ... 2 3 5] [4 2 0 ... 2 8 5]\n",
      "0.8271219512195122\n",
      "Iteration:  450\n",
      "[4 2 0 ... 2 3 5] [4 2 0 ... 2 8 5]\n",
      "0.8295853658536585\n",
      "Iteration:  460\n",
      "[4 2 0 ... 2 3 5] [4 2 0 ... 2 8 5]\n",
      "0.8316097560975609\n",
      "Iteration:  470\n",
      "[4 2 0 ... 2 3 5] [4 2 0 ... 2 8 5]\n",
      "0.8337073170731707\n",
      "Iteration:  480\n",
      "[4 2 0 ... 2 3 5] [4 2 0 ... 2 8 5]\n",
      "0.835\n",
      "Iteration:  490\n",
      "[4 2 0 ... 2 3 5] [4 2 0 ... 2 8 5]\n",
      "0.8365853658536585\n"
     ]
    }
   ]
  },
  {
   "cell_type": "markdown",
   "source": [
    "~85% accuracy on training set."
   ],
   "metadata": {}
  },
  {
   "cell_type": "code",
   "source": [
    "def make_predictions(X, W1, b1, W2, b2):\n",
    "    _, _, _, A2 = forward_prop(W1, b1, W2, b2, X)\n",
    "    predictions = get_predictions(A2)\n",
    "    return predictions\n",
    "\n",
    "def test_prediction(index, W1, b1, W2, b2):\n",
    "    current_image = X_train[:, index, None]\n",
    "    prediction = make_predictions(X_train[:, index, None], W1, b1, W2, b2)\n",
    "    label = Y_train[index]\n",
    "    print(\"Prediction: \", prediction)\n",
    "    print(\"Label: \", label)\n",
    "    \n",
    "    current_image = current_image.reshape((28, 28)) * 255\n",
    "    plt.gray()\n",
    "    plt.imshow(current_image, interpolation='nearest')\n",
    "    plt.show()"
   ],
   "metadata": {
    "trusted": true,
    "ExecuteTime": {
     "end_time": "2023-10-03T15:16:55.463718Z",
     "start_time": "2023-10-03T15:16:55.457065Z"
    }
   },
   "execution_count": 7,
   "outputs": []
  },
  {
   "cell_type": "code",
   "source": [
    "test_prediction(0, W1, b1, W2, b2)\n",
    "test_prediction(1, W1, b1, W2, b2)\n",
    "test_prediction(2, W1, b1, W2, b2)\n",
    "test_prediction(3, W1, b1, W2, b2)"
   ],
   "metadata": {
    "trusted": true,
    "ExecuteTime": {
     "end_time": "2023-10-03T15:16:56.264918Z",
     "start_time": "2023-10-03T15:16:55.464937Z"
    }
   },
   "execution_count": 8,
   "outputs": [
    {
     "name": "stdout",
     "output_type": "stream",
     "text": [
      "Prediction:  [4]\n",
      "Label:  4\n"
     ]
    },
    {
     "data": {
      "text/plain": "<Figure size 640x480 with 1 Axes>",
      "image/png": "[encoded data removed]"
     },
     "metadata": {},
     "output_type": "display_data"
    },
    {
     "name": "stdout",
     "output_type": "stream",
     "text": [
      "Prediction:  [2]\n",
      "Label:  2\n"
     ]
    },
    {
     "data": {
      "text/plain": "<Figure size 640x480 with 1 Axes>",
      "image/png": "[encoded data removed]"
     },
     "metadata": {},
     "output_type": "display_data"
    },
    {
     "name": "stdout",
     "output_type": "stream",
     "text": [
      "Prediction:  [0]\n",
      "Label:  0\n"
     ]
    },
    {
     "data": {
      "text/plain": "<Figure size 640x480 with 1 Axes>",
      "image/png": "[encoded data removed]"
     },
     "metadata": {},
     "output_type": "display_data"
    },
    {
     "name": "stdout",
     "output_type": "stream",
     "text": [
      "Prediction:  [9]\n",
      "Label:  9\n"
     ]
    },
    {
     "data": {
      "text/plain": "<Figure size 640x480 with 1 Axes>",
      "image/png": "[encoded data removed]"
     },
     "metadata": {},
     "output_type": "display_data"
    }
   ]
  },
  {
   "cell_type": "code",
   "source": [
    "dev_predictions = make_predictions(X_dev, W1, b1, W2, b2)\n",
    "get_accuracy(dev_predictions, Y_dev)"
   ],
   "metadata": {
    "trusted": true,
    "ExecuteTime": {
     "end_time": "2023-10-03T15:16:56.287230Z",
     "start_time": "2023-10-03T15:16:56.261246Z"
    }
   },
   "execution_count": 9,
   "outputs": [
    {
     "name": "stdout",
     "output_type": "stream",
     "text": [
      "[3 0 9 7 6 1 6 2 5 4 0 3 1 5 9 1 6 3 7 4 6 9 0 6 6 7 3 8 1 1 6 6 6 5 1 4 3\n",
      " 1 8 5 0 9 9 4 2 0 9 6 1 4 1 5 3 8 0 6 6 2 4 7 1 1 1 4 2 6 8 8 3 5 8 1 3 9\n",
      " 9 6 1 7 3 1 0 9 8 6 7 7 0 2 8 6 6 1 1 3 7 7 1 7 8 2 7 4 7 1 9 5 1 9 0 3 0\n",
      " 9 9 6 1 0 8 2 2 6 5 9 0 1 0 3 7 5 6 4 1 6 5 0 7 4 0 5 0 8 1 7 6 0 9 7 8 9\n",
      " 8 8 9 1 1 1 1 4 4 9 5 2 6 9 6 9 0 9 8 6 6 9 9 8 8 9 0 5 7 1 8 6 6 6 1 6 9\n",
      " 2 1 0 2 9 0 8 7 1 7 1 9 2 7 5 0 3 4 2 1 1 3 0 9 2 4 7 4 8 8 1 2 4 7 4 1 8\n",
      " 6 3 7 9 8 9 4 7 2 2 7 5 4 4 9 9 3 7 8 3 0 7 3 6 7 3 0 1 2 8 1 1 8 2 3 5 4\n",
      " 7 0 7 4 8 8 4 9 1 3 0 9 1 0 3 8 4 3 6 6 7 8 7 0 3 7 6 1 3 9 7 6 7 4 3 9 3\n",
      " 7 8 5 2 9 3 1 2 3 7 0 6 1 2 5 4 2 0 6 8 2 9 3 2 9 7 5 8 1 1 0 7 5 2 4 0 9\n",
      " 0 2 2 1 0 2 9 4 0 6 2 2 0 3 4 3 8 2 4 7 0 8 0 0 0 7 8 5 3 1 4 4 1 9 1 7 3\n",
      " 3 8 1 2 3 0 7 8 1 1 9 6 4 5 7 7 1 3 1 3 9 9 6 8 6 5 5 2 6 3 3 1 7 9 5 8 8\n",
      " 8 4 8 3 0 9 2 6 9 2 0 3 9 1 7 4 3 1 4 4 9 8 0 4 3 9 7 2 4 5 2 6 6 1 0 0 9\n",
      " 0 4 8 1 9 3 0 3 4 7 5 8 2 5 0 5 3 7 1 1 4 6 0 2 9 7 3 1 3 5 4 2 0 0 1 7 2\n",
      " 5 9 0 1 0 4 9 3 9 7 0 8 5 4 5 1 3 3 6 2 0 4 6 5 5 1 5 8 4 8 2 4 8 2 8 3 9\n",
      " 3 1 6 3 2 3 0 9 9 7 0 4 2 5 1 4 1 7 8 9 0 9 5 4 9 3 5 2 5 8 9 5 2 6 8 3 9\n",
      " 7 9 7 9 2 6 8 7 4 6 0 5 8 3 0 9 6 0 4 3 3 0 1 5 8 5 9 0 0 8 0 2 1 3 8 1 9\n",
      " 9 9 9 6 7 5 9 5 0 0 2 0 6 3 9 4 9 4 6 3 4 0 5 1 6 1 0 4 5 0 6 9 0 4 2 6 2\n",
      " 0 8 1 3 2 8 7 9 7 9 1 8 7 9 0 9 1 0 9 0 9 3 0 1 3 3 6 5 3 4 5 0 0 6 2 2 4\n",
      " 2 3 7 4 0 0 5 2 7 6 6 8 9 5 6 8 9 5 0 9 2 3 3 0 3 0 4 2 1 0 5 2 9 3 3 6 8\n",
      " 2 8 2 9 0 8 9 2 8 9 8 4 6 3 5 0 3 8 8 0 7 4 2 3 3 3 3 3 1 2 4 9 0 0 0 1 1\n",
      " 1 3 0 0 9 6 9 7 3 1 7 0 9 4 8 9 5 8 7 8 8 8 4 3 8 1 2 1 2 7 0 9 8 4 0 2 3\n",
      " 7 2 1 7 8 8 3 8 0 1 3 4 2 4 1 9 0 5 3 5 5 7 1 5 0 4 9 9 4 0 4 9 4 1 9 7 8\n",
      " 1 5 2 0 1 1 6 8 5 1 8 0 1 4 0 0 5 2 7 8 7 7 5 7 9 1 0 8 1 3 7 9 1 2 3 1 8\n",
      " 5 9 7 2 3 3 4 5 3 8 2 1 0 5 9 7 3 2 2 0 9 3 2 1 7 3 3 0 2 4 3 9 5 4 0 3 0\n",
      " 2 3 9 0 6 9 7 7 2 6 1 7 1 7 6 7 1 6 1 7 7 2 2 9 1 4 2 0 0 7 8 0 0 9 8 1 1\n",
      " 8 4 4 1 6 8 1 1 5 2 9 1 3 7 3 3 0 0 0 1 5 9 6 3 0 4 7 2 5 4 5 1 4 2 7 5 8\n",
      " 2 1 8 7 8 1 5 2 1 7 5 3 6 8 0 2 3 7 4 1 9 0 7 3 2 5 8 7 2 0 4 0 2 2 0 1 4\n",
      " 9] [3 0 9 7 5 1 6 2 5 4 0 3 1 5 9 1 6 5 7 5 6 9 0 6 6 7 3 8 1 1 6 6 6 5 1 9 3\n",
      " 1 8 8 0 9 9 4 2 0 9 6 1 4 1 5 3 8 7 6 0 2 6 7 1 9 7 4 2 6 2 8 9 5 8 7 3 7\n",
      " 5 6 1 2 3 1 0 9 8 6 7 7 0 2 8 6 6 1 1 3 7 7 1 7 8 2 7 4 7 1 8 5 1 9 0 3 0\n",
      " 4 9 2 1 0 8 6 2 6 5 9 6 1 0 3 9 5 6 4 1 6 5 0 7 4 0 5 0 8 1 7 6 0 9 7 9 9\n",
      " 8 8 9 1 1 1 1 9 4 8 5 2 5 4 6 9 0 9 8 6 6 9 8 8 8 9 0 5 7 1 8 6 6 6 1 6 9\n",
      " 2 1 0 2 9 7 3 7 1 7 1 9 2 7 5 6 3 4 2 1 1 3 0 9 2 4 3 5 8 8 1 2 4 7 4 1 8\n",
      " 6 3 7 4 8 2 4 7 2 7 7 5 4 4 4 9 3 7 8 5 0 9 9 6 7 3 0 1 2 8 1 1 9 2 3 5 4\n",
      " 7 0 7 4 8 8 4 9 1 3 0 9 1 0 3 9 4 3 6 6 7 8 7 5 3 3 6 1 3 9 7 6 7 4 3 9 3\n",
      " 7 1 5 5 9 3 1 2 3 7 0 6 1 2 5 4 2 0 6 8 2 7 8 2 9 7 3 5 1 1 0 7 5 2 4 0 9\n",
      " 0 9 2 1 0 0 4 4 0 6 2 2 0 3 6 3 8 2 4 7 0 8 0 3 0 7 8 5 3 1 4 4 1 9 1 7 3\n",
      " 3 8 1 2 3 0 7 8 1 1 9 8 4 3 7 4 1 2 1 3 9 5 6 8 6 5 5 2 6 3 3 1 7 9 5 3 8\n",
      " 8 4 5 3 0 7 2 6 9 2 0 3 9 1 7 4 3 1 4 4 9 8 0 4 9 7 7 2 4 5 2 6 6 1 0 8 9\n",
      " 0 4 1 1 9 5 0 5 4 9 5 8 2 8 0 5 3 7 1 1 4 6 0 7 9 7 3 1 3 3 4 2 5 9 1 7 2\n",
      " 5 9 5 1 0 4 4 3 9 7 0 8 5 4 5 1 3 8 6 2 0 4 6 5 5 4 5 3 4 8 2 4 8 2 8 3 9\n",
      " 5 1 5 3 2 3 0 9 9 1 0 4 2 5 1 4 1 7 8 9 0 9 5 6 4 3 5 9 5 1 8 3 2 6 9 3 9\n",
      " 7 9 7 4 2 6 8 7 2 6 2 5 8 3 0 4 6 0 4 3 3 0 1 6 8 5 9 0 0 8 0 2 1 3 8 1 7\n",
      " 9 9 9 6 7 5 9 8 0 0 2 0 6 3 9 4 9 4 6 3 2 0 5 1 6 5 0 4 2 0 6 9 0 4 2 6 2\n",
      " 0 8 1 3 2 8 7 9 8 4 1 8 7 9 0 9 1 0 9 0 9 3 0 1 7 3 6 6 3 4 8 0 0 6 2 2 5\n",
      " 2 3 7 4 0 0 5 2 7 6 6 8 7 5 6 8 9 5 0 3 2 3 3 0 3 0 4 2 1 0 5 2 9 3 3 6 8\n",
      " 2 8 2 9 0 8 9 2 8 9 8 4 6 3 5 0 3 8 8 0 9 4 2 3 3 3 3 3 1 2 4 9 0 0 0 1 1\n",
      " 1 3 0 0 9 6 4 7 3 1 7 0 9 4 8 9 8 8 7 8 8 8 4 9 8 1 2 1 2 7 0 9 8 4 0 2 5\n",
      " 7 2 1 7 8 8 2 8 0 1 3 4 3 2 1 9 3 5 3 5 5 7 8 5 9 4 9 9 4 0 4 9 4 1 4 7 3\n",
      " 3 3 2 0 1 1 5 5 8 1 8 0 1 4 0 0 5 2 7 1 7 7 5 7 9 1 0 8 1 5 9 9 1 2 3 1 0\n",
      " 5 9 7 6 3 3 4 5 3 8 2 1 0 5 7 2 3 2 2 0 9 3 2 1 7 3 3 0 2 4 3 9 5 4 0 3 0\n",
      " 2 8 9 0 6 4 7 7 2 6 1 7 1 2 6 7 1 6 1 7 7 2 2 4 1 4 2 2 0 7 1 0 0 8 8 1 1\n",
      " 8 4 4 1 6 5 1 1 7 2 9 1 3 7 3 3 0 0 0 1 5 7 6 3 0 4 7 2 3 4 5 1 4 2 7 5 8\n",
      " 2 8 8 9 8 1 5 2 1 7 5 3 6 8 0 2 3 7 4 1 9 0 3 3 2 5 8 7 2 0 9 0 6 2 0 1 4\n",
      " 9]\n"
     ]
    },
    {
     "data": {
      "text/plain": "0.851"
     },
     "execution_count": 9,
     "metadata": {},
     "output_type": "execute_result"
    }
   ]
  }
 ]
}
