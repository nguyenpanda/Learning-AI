{
 "cells": [
  {
   "cell_type": "code",
   "execution_count": 3,
   "metadata": {},
   "outputs": [],
   "source": [
    "import numpy as np\n",
    "import matplotlib.pyplot as plt\n",
    "import pandas as pd\n",
    " \n",
    "data = pd.read_csv('train.csv')\n",
    "data = np.array(data)\n",
    "dataFrame = pd.DataFrame(data)"
   ]
  },
  {
   "cell_type": "code",
   "execution_count": 4,
   "metadata": {},
   "outputs": [
    {
     "name": "stdout",
     "output_type": "stream",
     "text": [
      "X_train = (784, 33600) | Y_train = (1, 33600)\n",
      "X_test = (784, 8400)   | Y_test = (1, 8400)\n"
     ]
    }
   ],
   "source": [
    "def splitData(data: np.ndarray, train_percent=0.8):\n",
    "    m, n = data.shape\n",
    "    numSplit = int(42000 * train_percent)\n",
    "    \n",
    "    train = data[0:numSplit].T\n",
    "    y_train = train[0:1]\n",
    "    x_train = train[1:n] / 255\n",
    "    \n",
    "    test = data[numSplit:m].T\n",
    "    y_test = test[0:1]\n",
    "    x_test = test[1:n] / 255\n",
    "    \n",
    "    return x_train, y_train, x_test, y_test\n",
    "   \n",
    "x_train, y_train, x_test, y_test = splitData(data)\n",
    "print(f'X_train = {x_train.shape} | Y_train = {y_train.shape}')\n",
    "print(f'X_test = {x_test.shape}   | Y_test = {y_test.shape}')"
   ]
  },
  {
   "cell_type": "code",
   "execution_count": 5,
   "metadata": {},
   "outputs": [],
   "source": [
    "def init_parameter(m: int, node_per_layer=10):\n",
    "    \n",
    "    w1 = np.random.rand(node_per_layer, m) - 0.5\n",
    "    b1 = np.random.rand(node_per_layer, 1) - 0.5\n",
    "    \n",
    "    w2 = np.random.rand(node_per_layer, node_per_layer) - 0.5\n",
    "    b2 = np.random.rand(node_per_layer, 1) - 0.5\n",
    "    \n",
    "    return w1, b1, w2, b2\n",
    "\n",
    "def ReUL(z: np.ndarray) -> np.ndarray:\n",
    "    return np.maximum(0, z)\n",
    "\n",
    "def ReUL_der(z: np.ndarray) -> np.ndarray:\n",
    "    return z >= 0\n",
    "\n",
    "def softMax(z: np.ndarray) -> np.ndarray:\n",
    "    return np.exp(z) / np.sum(np.exp(z), axis=0)"
   ]
  },
  {
   "cell_type": "code",
   "execution_count": 6,
   "metadata": {},
   "outputs": [],
   "source": [
    "def forward_propagation(x: np.ndarray, \n",
    "                        w1: np.ndarray, b1: np.ndarray, \n",
    "                        w2: np.ndarray, b2: np.ndarray):\n",
    "    \n",
    "    z1 = w1 @ x + b1\n",
    "    a1 = ReUL(z1)\n",
    "    \n",
    "    z2 = w2 @ a1 + b2\n",
    "    a2 = softMax(z2)\n",
    "    \n",
    "    return z1, a1, z2, a2\n",
    "\n",
    "def Y_boolean_vector(y):\n",
    "    boolean = np.zeros([y.size, 10]) # (33600, 10)\n",
    "    boolean[np.arange(y.size), y] = 1\n",
    "    boolean = boolean.T\n",
    "    return boolean # (10, 33600)"
   ]
  },
  {
   "cell_type": "code",
   "execution_count": 7,
   "metadata": {},
   "outputs": [],
   "source": [
    "def backward_propagation(x: np.ndarray, y: np.ndarray,\n",
    "                         z1: np.ndarray, w1: np.ndarray, a1: np.ndarray,\n",
    "                         z2: np.ndarray, w2: np.ndarray, a2: np.ndarray):\n",
    "    m = y.size\n",
    "    dz_2 = a2 - Y_boolean_vector(y)\n",
    "    # print(f'dz_2 = {dz_2.shape}')\n",
    "    dw_2 = dz_2 @ a1.T / m\n",
    "    # print(f'dw_2 = {dw_2.shape}')\n",
    "    db_2 = np.sum(dz_2, axis=1, keepdims=True) / m\n",
    "    # print(f'db_2 = {db_2.shape}')\n",
    "    dz_1 = w2.T @ dz_2 * ReUL_der(z1)\n",
    "    # print(f'dz_1 = {dz_1.shape}')\n",
    "    dw_1 = dz_1 @ x.T / m\n",
    "    # print(f'dw_1 = {dw_1.shape}')\n",
    "    db_1 = np.sum(dz_1) / m\n",
    "    # print(f'db_1 = {db_1.shape}')\n",
    "    return dw_1, db_1, dw_2, db_2\n",
    "\n",
    "def update_parameters(w1: np.ndarray, b1: np.ndarray, w2: np.ndarray, b2: np.ndarray,\n",
    "                     dw_1: np.ndarray, db_1: np.ndarray, dw_2: np.ndarray, db_2: np.ndarray,\n",
    "                     alpha: float):\n",
    "    b1 = b1 - alpha * db_1\n",
    "    b2 = b2 - alpha * db_2\n",
    "    \n",
    "    w2 = w2 - alpha * dw_2\n",
    "    w1 = w1 - alpha * dw_1\n",
    "    return w1, b1, w2, b2"
   ]
  },
  {
   "cell_type": "code",
   "execution_count": 8,
   "metadata": {},
   "outputs": [],
   "source": [
    "def prediction(a2: np.ndarray):\n",
    "    return np.argmax(a2, 0)\n",
    "\n",
    "def accuracy(predictions, y: np.ndarray):\n",
    "    return np.sum(predictions == y) / y.size\n",
    "\n",
    "def gradient_descent(X: np.ndarray, Y: np.ndarray, alpha: float, iterations: int):\n",
    "    w1, b1, w2, b2 = init_parameter(X.shape[0])\n",
    "    \n",
    "    for i in range(iterations):\n",
    "        z1, a1, z2, a2 = forward_propagation(X, w1, b1, w2, b2)\n",
    "        dw1, db1, dw2, db2 = backward_propagation(X, Y, z1, w1, a1, z2, w2, a2)\n",
    "        w1, b1, w2, b2 = update_parameters(w1, b1, w2, b2, dw1, db1, dw2, db2, alpha)\n",
    "        \n",
    "        if i % 100 == 0:\n",
    "            print(\"Iteration: \", i)\n",
    "            predictions = prediction(a2)\n",
    "            print(f'Accuracy: {accuracy(predictions, Y)}')\n",
    "            \n",
    "    return w1, b1, w2, b2"
   ]
  },
  {
   "cell_type": "code",
   "execution_count": 9,
   "metadata": {},
   "outputs": [],
   "source": [
    "def make_predictions(X: np.ndarray, \n",
    "                     w1: np.ndarray, b1: np.ndarray, \n",
    "                     w2: np.ndarray, b2: np.ndarray):\n",
    "    \n",
    "    _, _, _, a2 = forward_propagation(X, w1, b1, w2, b2)\n",
    "    predictions = prediction(a2)\n",
    "    return predictions\n",
    "\n",
    "def test_prediction(index: int, \n",
    "                    w1: np.ndarray, b1: np.ndarray, \n",
    "                    w2: np.ndarray, b2: np.ndarray):\n",
    "    \n",
    "    prediction = make_predictions(x_train[:, index, None], w1, b1, w2, b2)\n",
    "    label = y_train[0][index]\n",
    "    print(\"Prediction: \", prediction)\n",
    "    print(\"Label: \", label)\n",
    "    \n",
    "    current_image = x_train[:, index, None]\n",
    "    current_image = current_image.reshape((28, 28)) * 255\n",
    "    \n",
    "    plt.gray()\n",
    "    plt.imshow(current_image, interpolation='nearest')\n",
    "    plt.show()\n",
    "    \n",
    "def export_parameters_as_csv(W1: np.ndarray, B1: np.ndarray, \n",
    "                      W2: np.ndarray, B2: np.ndarray,\n",
    "                      alpha: float, iterations: int):\n",
    "    \n",
    "    file_path = ['w1', 'b1', 'w2', 'b2']\n",
    "    parameters_export = [W1, B1, W2, B2]\n",
    "\n",
    "    for i in range(len(file_path)):\n",
    "        m, n = parameters_export[i].shape\n",
    "        file_path[i] = 'Parameters/' + file_path[i] + f'_{m}x{n}_a{alpha}_i{iterations}' + '.csv'\n",
    "        \n",
    "    print(file_path)\n",
    "    \n",
    "    for i in range(len(file_path)):\n",
    "        np.savetxt(file_path[i], parameters_export[i], delimiter=',')"
   ]
  },
  {
   "cell_type": "code",
   "execution_count": 11,
   "metadata": {},
   "outputs": [
    {
     "name": "stdout",
     "output_type": "stream",
     "text": [
      "Iteration:  0\n",
      "Accuracy: 0.11648809523809524\n",
      "Iteration:  100\n",
      "Accuracy: 0.6519047619047619\n",
      "Iteration:  200\n",
      "Accuracy: 0.7730952380952381\n",
      "Iteration:  300\n",
      "Accuracy: 0.8161309523809523\n",
      "Iteration:  400\n",
      "Accuracy: 0.8395535714285715\n",
      "Iteration:  500\n",
      "Accuracy: 0.8533928571428572\n",
      "Iteration:  600\n",
      "Accuracy: 0.8623511904761905\n",
      "Iteration:  700\n",
      "Accuracy: 0.8694642857142857\n",
      "Iteration:  800\n",
      "Accuracy: 0.8751785714285715\n",
      "Iteration:  900\n",
      "Accuracy: 0.8798214285714285\n",
      "Iteration:  1000\n",
      "Accuracy: 0.883125\n",
      "Iteration:  1100\n",
      "Accuracy: 0.8872619047619048\n",
      "Iteration:  1200\n",
      "Accuracy: 0.890327380952381\n",
      "Iteration:  1300\n",
      "Accuracy: 0.8927380952380952\n",
      "Iteration:  1400\n",
      "Accuracy: 0.8951488095238095\n"
     ]
    }
   ],
   "source": [
    "w1, b1, w2, b2 = gradient_descent(x_train, y_train, 0.1, 1500)"
   ]
  },
  {
   "cell_type": "code",
   "execution_count": null,
   "metadata": {},
   "outputs": [],
   "source": []
  },
  {
   "cell_type": "code",
   "execution_count": 12,
   "metadata": {},
   "outputs": [
    {
     "name": "stdout",
     "output_type": "stream",
     "text": [
      "DataSet Accuracy: 0.8964285714285715\n"
     ]
    }
   ],
   "source": [
    "\n",
    "_, _, _, a2_test = forward_propagation(x_test, w1, b1, w2, b2)\n",
    "\n",
    "predictions_test = prediction(a2_test)\n",
    "print(f'DataSet Accuracy: {accuracy(predictions_test, y_test)}')\n",
    "\n",
    "# export_parameters_as_csv(w1, b1, w2, b2, 0.01, 10001)"
   ]
  },
  {
   "cell_type": "code",
   "execution_count": 13,
   "metadata": {},
   "outputs": [],
   "source": [
    "def gradient_descent_2(X: np.ndarray, Y: np.ndarray, \n",
    "                     w1: np.ndarray, b1: np.ndarray, w2: np.ndarray, b2: np.ndarray,\n",
    "                     alpha: float, iterations: int):\n",
    "    \n",
    "    for i in range(iterations):\n",
    "        z1, a1, z2, a2 = forward_propagation(X, w1, b1, w2, b2)\n",
    "        dw1, db1, dw2, db2 = backward_propagation(X, Y, z1, w1, a1, z2, w2, a2)\n",
    "        w1, b1, w2, b2 = update_parameters(w1, b1, w2, b2, dw1, db1, dw2, db2, alpha)\n",
    "        \n",
    "        if i % 100 == 0:\n",
    "            print(\"Iteration: \", i)\n",
    "            predictions = prediction(a2)\n",
    "            print(f'Accuracy: {accuracy(predictions, Y)}')\n",
    "            \n",
    "    return w1, b1, w2, b2"
   ]
  },
  {
   "cell_type": "code",
   "execution_count": 17,
   "metadata": {},
   "outputs": [
    {
     "name": "stdout",
     "output_type": "stream",
     "text": [
      "Iteration:  0\n",
      "Accuracy: 0.8971428571428571\n",
      "Iteration:  100\n",
      "Accuracy: 0.8993452380952381\n",
      "Iteration:  200\n",
      "Accuracy: 0.9011011904761905\n",
      "Iteration:  300\n",
      "Accuracy: 0.9023511904761905\n",
      "Iteration:  400\n",
      "Accuracy: 0.9036904761904762\n",
      "Iteration:  500\n",
      "Accuracy: 0.9050892857142857\n",
      "Iteration:  600\n",
      "Accuracy: 0.9063988095238096\n",
      "Iteration:  700\n",
      "Accuracy: 0.9072916666666667\n",
      "Iteration:  800\n",
      "Accuracy: 0.90875\n",
      "Iteration:  900\n",
      "Accuracy: 0.9095833333333333\n"
     ]
    }
   ],
   "source": [
    "w1_2, b1_2, w2_2, b2_2 = gradient_descent_2(x_train, y_train, w1, b1, w2, b2, 0.1, 1000)"
   ]
  },
  {
   "cell_type": "code",
   "execution_count": 18,
   "metadata": {},
   "outputs": [
    {
     "name": "stdout",
     "output_type": "stream",
     "text": [
      "DataSet Accuracy: 0.9080952380952381\n"
     ]
    }
   ],
   "source": [
    "_, _, _, a2_test = forward_propagation(x_test, w1_2, b1_2, w2_2, b2_2)\n",
    "\n",
    "predictions_test = prediction(a2_test)\n",
    "print(f'DataSet Accuracy: {accuracy(predictions_test, y_test)}')\n",
    "\n",
    "# export_parameters_as_csv(w1_2, b1_2, w2_2, b2_2, 0.1, 1000)"
   ]
  },
  {
   "cell_type": "code",
   "execution_count": 21,
   "metadata": {},
   "outputs": [
    {
     "name": "stdout",
     "output_type": "stream",
     "text": [
      "Iteration:  0\n",
      "Accuracy: 0.910625\n",
      "Iteration:  100\n",
      "Accuracy: 0.9117559523809524\n",
      "Iteration:  200\n",
      "Accuracy: 0.9133630952380952\n",
      "Iteration:  300\n",
      "Accuracy: 0.9169047619047619\n",
      "Iteration:  400\n",
      "Accuracy: 0.9195535714285714\n",
      "Iteration:  500\n",
      "Accuracy: 0.9213690476190476\n",
      "Iteration:  600\n",
      "Accuracy: 0.9220535714285715\n",
      "Iteration:  700\n",
      "Accuracy: 0.9245238095238095\n",
      "Iteration:  800\n",
      "Accuracy: 0.9258630952380953\n",
      "Iteration:  900\n",
      "Accuracy: 0.9272916666666666\n",
      "Iteration:  1000\n",
      "Accuracy: 0.9283035714285715\n",
      "Iteration:  1100\n",
      "Accuracy: 0.929672619047619\n",
      "Iteration:  1200\n",
      "Accuracy: 0.930327380952381\n",
      "Iteration:  1300\n",
      "Accuracy: 0.9315178571428572\n",
      "Iteration:  1400\n",
      "Accuracy: 0.9324107142857143\n",
      "Iteration:  1500\n",
      "Accuracy: 0.933125\n",
      "Iteration:  1600\n",
      "Accuracy: 0.9338392857142858\n",
      "Iteration:  1700\n",
      "Accuracy: 0.9346130952380952\n",
      "Iteration:  1800\n",
      "Accuracy: 0.9354761904761905\n",
      "Iteration:  1900\n",
      "Accuracy: 0.9360119047619048\n"
     ]
    }
   ],
   "source": [
    "w1_3, b1_3, w2_3, b2_3 = gradient_descent_2(x_train, y_train, w1_2, b1_2, w2_2, b2_2, 0.3, 2000)"
   ]
  },
  {
   "cell_type": "code",
   "execution_count": 22,
   "metadata": {},
   "outputs": [
    {
     "name": "stdout",
     "output_type": "stream",
     "text": [
      "DataSet Accuracy: 0.9275\n"
     ]
    }
   ],
   "source": [
    "_, _, _, a2_test = forward_propagation(x_test, w1_3, b1_3, w2_3, b2_3)\n",
    "\n",
    "predictions_test = prediction(a2_test)\n",
    "print(f'DataSet Accuracy: {accuracy(predictions_test, y_test)}')\n",
    "\n",
    "# export_parameters_as_csv(w1_3, b1_3, w2_3, b2_3, 1, 1000)"
   ]
  },
  {
   "cell_type": "code",
   "execution_count": 30,
   "metadata": {},
   "outputs": [
    {
     "name": "stdout",
     "output_type": "stream",
     "text": [
      "Iteration:  0\n",
      "Accuracy: 0.936577380952381\n",
      "Iteration:  100\n",
      "Accuracy: 0.9354464285714286\n",
      "Iteration:  200\n",
      "Accuracy: 0.9369047619047619\n",
      "Iteration:  300\n",
      "Accuracy: 0.9373809523809524\n",
      "Iteration:  400\n",
      "Accuracy: 0.9394642857142858\n",
      "Iteration:  500\n",
      "Accuracy: 0.9403869047619048\n",
      "Iteration:  600\n",
      "Accuracy: 0.9410714285714286\n",
      "Iteration:  700\n",
      "Accuracy: 0.9416666666666667\n",
      "Iteration:  800\n",
      "Accuracy: 0.9427678571428572\n",
      "Iteration:  900\n",
      "Accuracy: 0.9423214285714285\n",
      "Iteration:  1000\n",
      "Accuracy: 0.9433630952380953\n",
      "Iteration:  1100\n",
      "Accuracy: 0.9439285714285715\n",
      "Iteration:  1200\n",
      "Accuracy: 0.9446130952380952\n",
      "Iteration:  1300\n",
      "Accuracy: 0.945297619047619\n",
      "Iteration:  1400\n",
      "Accuracy: 0.9453571428571429\n",
      "Iteration:  1500\n",
      "Accuracy: 0.9447916666666667\n",
      "Iteration:  1600\n",
      "Accuracy: 0.9460714285714286\n",
      "Iteration:  1700\n",
      "Accuracy: 0.9466071428571429\n",
      "Iteration:  1800\n",
      "Accuracy: 0.9463392857142857\n",
      "Iteration:  1900\n",
      "Accuracy: 0.9470535714285714\n"
     ]
    }
   ],
   "source": [
    "w1_4, b1_4, w2_4, b2_4 = gradient_descent_2(x_train, y_train, w1_3, b1_3, w2_3, b2_3, 0.5, 2000)"
   ]
  },
  {
   "cell_type": "code",
   "execution_count": 31,
   "metadata": {},
   "outputs": [
    {
     "name": "stdout",
     "output_type": "stream",
     "text": [
      "Iteration:  0\n",
      "Accuracy: 0.9476190476190476\n",
      "Iteration:  100\n",
      "Accuracy: 0.9479761904761905\n",
      "Iteration:  200\n",
      "Accuracy: 0.9486904761904762\n",
      "Iteration:  300\n",
      "Accuracy: 0.9232440476190477\n",
      "Iteration:  400\n",
      "Accuracy: 0.9491964285714286\n",
      "Iteration:  500\n",
      "Accuracy: 0.9494642857142858\n",
      "Iteration:  600\n",
      "Accuracy: 0.9497619047619048\n",
      "Iteration:  700\n",
      "Accuracy: 0.9462797619047619\n",
      "Iteration:  800\n",
      "Accuracy: 0.9502678571428571\n",
      "Iteration:  900\n",
      "Accuracy: 0.934047619047619\n",
      "Iteration:  1000\n",
      "Accuracy: 0.9510416666666667\n",
      "Iteration:  1100\n",
      "Accuracy: 0.9516071428571429\n",
      "Iteration:  1200\n",
      "Accuracy: 0.9516666666666667\n",
      "Iteration:  1300\n",
      "Accuracy: 0.9517559523809523\n",
      "Iteration:  1400\n",
      "Accuracy: 0.9491666666666667\n",
      "Iteration:  1500\n",
      "Accuracy: 0.9521726190476191\n",
      "Iteration:  1600\n",
      "Accuracy: 0.9416369047619048\n",
      "Iteration:  1700\n",
      "Accuracy: 0.9528571428571428\n",
      "Iteration:  1800\n",
      "Accuracy: 0.9499107142857143\n",
      "Iteration:  1900\n",
      "Accuracy: 0.9531845238095238\n",
      "Iteration:  2000\n",
      "Accuracy: 0.9534523809523809\n",
      "Iteration:  2100\n",
      "Accuracy: 0.9536607142857143\n",
      "Iteration:  2200\n",
      "Accuracy: 0.9539583333333334\n",
      "Iteration:  2300\n",
      "Accuracy: 0.9542559523809524\n",
      "Iteration:  2400\n",
      "Accuracy: 0.9536011904761905\n",
      "Iteration:  2500\n",
      "Accuracy: 0.9534523809523809\n",
      "Iteration:  2600\n",
      "Accuracy: 0.9547619047619048\n",
      "Iteration:  2700\n",
      "Accuracy: 0.951577380952381\n",
      "Iteration:  2800\n",
      "Accuracy: 0.9552678571428571\n",
      "Iteration:  2900\n",
      "Accuracy: 0.9532142857142857\n",
      "Iteration:  3000\n",
      "Accuracy: 0.955654761904762\n",
      "Iteration:  3100\n",
      "Accuracy: 0.955654761904762\n",
      "Iteration:  3200\n",
      "Accuracy: 0.9555654761904762\n",
      "Iteration:  3300\n",
      "Accuracy: 0.9554166666666667\n",
      "Iteration:  3400\n",
      "Accuracy: 0.9551785714285714\n",
      "Iteration:  3500\n",
      "Accuracy: 0.955654761904762\n",
      "Iteration:  3600\n",
      "Accuracy: 0.955952380952381\n",
      "Iteration:  3700\n",
      "Accuracy: 0.9544047619047619\n",
      "Iteration:  3800\n",
      "Accuracy: 0.9562797619047619\n",
      "Iteration:  3900\n",
      "Accuracy: 0.9572619047619048\n",
      "Iteration:  4000\n",
      "Accuracy: 0.9557142857142857\n",
      "Iteration:  4100\n",
      "Accuracy: 0.9574404761904762\n",
      "Iteration:  4200\n",
      "Accuracy: 0.9561904761904761\n",
      "Iteration:  4300\n",
      "Accuracy: 0.9576488095238095\n",
      "Iteration:  4400\n",
      "Accuracy: 0.9575\n",
      "Iteration:  4500\n",
      "Accuracy: 0.9554761904761905\n",
      "Iteration:  4600\n",
      "Accuracy: 0.9579166666666666\n",
      "Iteration:  4700\n",
      "Accuracy: 0.955654761904762\n",
      "Iteration:  4800\n",
      "Accuracy: 0.9575297619047619\n",
      "Iteration:  4900\n",
      "Accuracy: 0.9575595238095238\n"
     ]
    }
   ],
   "source": [
    "w1_5, b1_5, w2_5, b2_5 = gradient_descent_2(x_train, y_train, w1_4, b1_4, w2_4, b2_4, 0.5, 5000)"
   ]
  },
  {
   "cell_type": "code",
   "execution_count": 32,
   "metadata": {},
   "outputs": [
    {
     "name": "stdout",
     "output_type": "stream",
     "text": [
      "DataSet Accuracy: 0.949952380952381\n",
      "['Final_Parameters_95/w1_10x784.csv', 'Final_Parameters_95/b1_10x1.csv', 'Final_Parameters_95/w2_10x10.csv', 'Final_Parameters_95/b2_10x1.csv']\n"
     ]
    }
   ],
   "source": [
    "# final\n",
    "m, n = data.shape\n",
    "final = data[0:m].T\n",
    "y_final = final[0:1]\n",
    "x_final = final[1:n] / 255\n",
    "_, _, _, a2_final = forward_propagation(x_final, w1_5, b1_5, w2_5, b2_5)\n",
    "\n",
    "predictions_final = prediction(a2_final)\n",
    "print(f'DataSet Accuracy: {accuracy(predictions_final, y_final)}')\n",
    "    \n",
    "file_path = ['w1', 'b1', 'w2', 'b2']\n",
    "parameters_export = [w1_3, b1_3, w2_3, b2_3]\n",
    "\n",
    "for i in range(len(file_path)):\n",
    "    m_size, n_size = parameters_export[i].shape\n",
    "    file_path[i] = 'Final_Parameters_95/' + file_path[i] + f'_{m_size}x{n_size}' + '.csv'\n",
    "    \n",
    "print(file_path)\n",
    "\n",
    "for i in range(len(file_path)):\n",
    "    np.savetxt(file_path[i], parameters_export[i], delimiter=',')"
   ]
  },
  {
   "cell_type": "code",
   "execution_count": 28,
   "metadata": {},
   "outputs": [
    {
     "name": "stdout",
     "output_type": "stream",
     "text": [
      "Prediction:  [0]\n",
      "Label:  0\n"
     ]
    },
    {
     "data": {
      "image/png": "[encoded data removed]",
      "text/plain": [
       "<Figure size 640x480 with 1 Axes>"
      ]
     },
     "metadata": {},
     "output_type": "display_data"
    }
   ],
   "source": [
    "test_prediction(np.random.randint(0, 3000), w1_3, b1_3, w2_3, b2_3)"
   ]
  },
  {
   "cell_type": "markdown",
   "metadata": {},
   "source": [
    "# Conclusion\n",
    "\n",
    "## Accuracy\n",
    "- Achieved an impressive accuracy of 93.92%.\n",
    "\n",
    "## Model Architecture\n",
    "- **Input Layer:** Consists of 784 nodes.\n",
    "- **Hidden Layers:**\n",
    "  1. First hidden layer: Rectified Linear Unit (ReUL) activation function, with 10 nodes.\n",
    "  2. Second hidden layer: Softmax activation function, also with 10 nodes.\n",
    "- **Output Layer:** Comprises 10 nodes for prediction.\n",
    "\n",
    "## Model Parameters\n",
    "- **w1:** Weight matrix with dimensions (10, 784).\n",
    "- **b1:** Bias vector with dimensions (10, 1).\n",
    "- **w2:** Weight matrix with dimensions (10, 10).\n",
    "- **b2:** Bias vector with dimensions (10, 1).\n",
    "\n",
    "These results demonstrate the effectiveness of the model architecture and the successful optimization of parameters, leading to a high level of accuracy in predictions.\n"
   ]
  },
  {
   "cell_type": "markdown",
   "metadata": {},
   "source": []
  }
 ],
 "metadata": {
  "kernelspec": {
   "display_name": "Python 3",
   "language": "python",
   "name": "python3"
  },
  "language_info": {
   "codemirror_mode": {
    "name": "ipython",
    "version": 3
   },
   "file_extension": ".py",
   "mimetype": "text/x-python",
   "name": "python",
   "nbconvert_exporter": "python",
   "pygments_lexer": "ipython3",
   "version": "3.12.0"
  }
 },
 "nbformat": 4,
 "nbformat_minor": 2
}
